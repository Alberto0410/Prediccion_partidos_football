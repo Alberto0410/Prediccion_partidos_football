{
 "cells": [
  {
   "cell_type": "code",
   "execution_count": 1,
   "metadata": {},
   "outputs": [
    {
     "name": "stdout",
     "output_type": "stream",
     "text": [
      "Requirement already satisfied: import-ipynb in e:\\anaconda\\lib\\site-packages (0.1.3)\n",
      "Requirement already satisfied: nbformat in e:\\anaconda\\lib\\site-packages (5.0.7)\n",
      "Requirement already satisfied: jsonschema!=2.5.0,>=2.4 in e:\\anaconda\\lib\\site-packages (from nbformat) (3.2.0)\n",
      "Requirement already satisfied: traitlets>=4.1 in e:\\anaconda\\lib\\site-packages (from nbformat) (4.3.3)\n",
      "Requirement already satisfied: jupyter-core in e:\\anaconda\\lib\\site-packages (from nbformat) (4.6.3)\n",
      "Requirement already satisfied: ipython-genutils in e:\\anaconda\\lib\\site-packages (from nbformat) (0.2.0)\n",
      "Requirement already satisfied: pyrsistent>=0.14.0 in e:\\anaconda\\lib\\site-packages (from jsonschema!=2.5.0,>=2.4->nbformat) (0.16.0)\n",
      "Requirement already satisfied: six>=1.11.0 in e:\\anaconda\\lib\\site-packages (from jsonschema!=2.5.0,>=2.4->nbformat) (1.15.0)\n",
      "Requirement already satisfied: attrs>=17.4.0 in e:\\anaconda\\lib\\site-packages (from jsonschema!=2.5.0,>=2.4->nbformat) (19.3.0)\n",
      "Requirement already satisfied: setuptools in e:\\anaconda\\lib\\site-packages (from jsonschema!=2.5.0,>=2.4->nbformat) (49.2.0.post20200714)\n",
      "Requirement already satisfied: decorator in e:\\anaconda\\lib\\site-packages (from traitlets>=4.1->nbformat) (4.4.2)\n",
      "Requirement already satisfied: pywin32>=1.0; sys_platform == \"win32\" in e:\\anaconda\\lib\\site-packages (from jupyter-core->nbformat) (227)\n",
      "importing Jupyter notebook from funciones.ipynb\n"
     ]
    }
   ],
   "source": [
    "import pandas as pd\n",
    "!pip install import-ipynb\n",
    "!pip install nbformat\n",
    "import import_ipynb\n",
    "\n",
    "from funciones import *"
   ]
  },
  {
   "cell_type": "code",
   "execution_count": 2,
   "metadata": {},
   "outputs": [],
   "source": [
    "#link donde esta almacenado el dataframe\n",
    "ruta = 'https://drive.google.com/uc?export=download&id=1Vw4Rb01h6FMfjcS9Kd-DUnbA1nrQn6In'\n",
    "\n",
    "#lo leemos con pandas\n",
    "historico = pd.read_csv(ruta)\n",
    "\n",
    "#convertimos la última columna en fecha\n",
    "historico['date'] = pd.to_datetime(historico.date)\n",
    "\n",
    "\n",
    "# historico.head()"
   ]
  },
  {
   "cell_type": "code",
   "execution_count": 3,
   "metadata": {},
   "outputs": [
    {
     "name": "stderr",
     "output_type": "stream",
     "text": [
      "C:\\Users\\PC\\AppData\\Local\\Temp/ipykernel_7792/401772678.py:2: FutureWarning: In a future version of pandas all arguments of DataFrame.drop except for the argument 'labels' will be keyword-only\n",
      "  historico = historico.drop('timestamp', 1)\n",
      "C:\\Users\\PC\\AppData\\Local\\Temp/ipykernel_7792/401772678.py:3: FutureWarning: In a future version of pandas all arguments of DataFrame.drop except for the argument 'labels' will be keyword-only\n",
      "  historico = historico.drop('id', 1)\n"
     ]
    }
   ],
   "source": [
    "#borramos y renombramos columnas\n",
    "historico = historico.drop('timestamp', 1)\n",
    "historico = historico.drop('id', 1)\n",
    "historico.columns = ['temporada', 'division', 'round', 'local', 'visitante'\n",
    ", 'localGoles', 'vistanteGoles', 'fecha']\n",
    "\n",
    "# #indexamos con las fechas\n",
    "historico = historico.set_index('fecha') \n",
    "\n",
    "# #aplicamos la funcion ganador para ver quien gano el partido\n",
    "historico['ganador'] = historico.apply(ganador, axis = 1)\n"
   ]
  }
 ],
 "metadata": {
  "interpreter": {
   "hash": "348907d6a805e3aff18463777e68219ad9f9877e8378b9312fcb98293899dbee"
  },
  "kernelspec": {
   "display_name": "Python 3.8.8 64-bit",
   "language": "python",
   "name": "python3"
  },
  "language_info": {
   "codemirror_mode": {
    "name": "ipython",
    "version": 3
   },
   "file_extension": ".py",
   "mimetype": "text/x-python",
   "name": "python",
   "nbconvert_exporter": "python",
   "pygments_lexer": "ipython3",
   "version": "3.8.8"
  },
  "orig_nbformat": 4
 },
 "nbformat": 4,
 "nbformat_minor": 2
}
